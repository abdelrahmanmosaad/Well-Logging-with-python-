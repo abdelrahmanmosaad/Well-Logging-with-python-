{
 "cells": [
  {
   "cell_type": "code",
   "execution_count": 2,
   "id": "6ac7f0db",
   "metadata": {},
   "outputs": [],
   "source": [
    "import pandas as pd\n",
    "import matplotlib.pyplot as plt\n",
    "import lasio"
   ]
  },
  {
   "cell_type": "code",
   "execution_count": 3,
   "id": "eaa91d24",
   "metadata": {},
   "outputs": [],
   "source": [
    "las = lasio.read(\"D:/well logg/Andys_YouTube_Notebooks-main/Data/15-9-19_SR_COMP.LAS\")"
   ]
  },
  {
   "cell_type": "code",
   "execution_count": 4,
   "id": "fe3482a6",
   "metadata": {},
   "outputs": [
    {
     "data": {
      "text/html": [
       "<div>\n",
       "<style scoped>\n",
       "    .dataframe tbody tr th:only-of-type {\n",
       "        vertical-align: middle;\n",
       "    }\n",
       "\n",
       "    .dataframe tbody tr th {\n",
       "        vertical-align: top;\n",
       "    }\n",
       "\n",
       "    .dataframe thead th {\n",
       "        text-align: right;\n",
       "    }\n",
       "</style>\n",
       "<table border=\"1\" class=\"dataframe\">\n",
       "  <thead>\n",
       "    <tr style=\"text-align: right;\">\n",
       "      <th></th>\n",
       "      <th>AC</th>\n",
       "      <th>CALI</th>\n",
       "      <th>DEN</th>\n",
       "      <th>GR</th>\n",
       "      <th>NEU</th>\n",
       "      <th>RDEP</th>\n",
       "      <th>RMED</th>\n",
       "    </tr>\n",
       "  </thead>\n",
       "  <tbody>\n",
       "    <tr>\n",
       "      <th>count</th>\n",
       "      <td>7007.000000</td>\n",
       "      <td>7007.000000</td>\n",
       "      <td>7084.000000</td>\n",
       "      <td>28117.000000</td>\n",
       "      <td>7096.000000</td>\n",
       "      <td>12223.000000</td>\n",
       "      <td>12223.000000</td>\n",
       "    </tr>\n",
       "    <tr>\n",
       "      <th>mean</th>\n",
       "      <td>79.498714</td>\n",
       "      <td>9.611068</td>\n",
       "      <td>2.449055</td>\n",
       "      <td>71.986798</td>\n",
       "      <td>20.117166</td>\n",
       "      <td>2.438382</td>\n",
       "      <td>2.386781</td>\n",
       "    </tr>\n",
       "    <tr>\n",
       "      <th>std</th>\n",
       "      <td>18.390705</td>\n",
       "      <td>1.019751</td>\n",
       "      <td>0.165122</td>\n",
       "      <td>32.922780</td>\n",
       "      <td>14.729530</td>\n",
       "      <td>6.631202</td>\n",
       "      <td>5.735731</td>\n",
       "    </tr>\n",
       "    <tr>\n",
       "      <th>min</th>\n",
       "      <td>1.025100</td>\n",
       "      <td>6.000000</td>\n",
       "      <td>1.943000</td>\n",
       "      <td>2.766100</td>\n",
       "      <td>2.178300</td>\n",
       "      <td>0.250300</td>\n",
       "      <td>0.179000</td>\n",
       "    </tr>\n",
       "    <tr>\n",
       "      <th>25%</th>\n",
       "      <td>66.154350</td>\n",
       "      <td>9.142900</td>\n",
       "      <td>2.319975</td>\n",
       "      <td>50.255200</td>\n",
       "      <td>10.631350</td>\n",
       "      <td>0.988000</td>\n",
       "      <td>0.847850</td>\n",
       "    </tr>\n",
       "    <tr>\n",
       "      <th>50%</th>\n",
       "      <td>74.661900</td>\n",
       "      <td>9.589400</td>\n",
       "      <td>2.505600</td>\n",
       "      <td>74.998500</td>\n",
       "      <td>15.718550</td>\n",
       "      <td>1.536100</td>\n",
       "      <td>1.490800</td>\n",
       "    </tr>\n",
       "    <tr>\n",
       "      <th>75%</th>\n",
       "      <td>93.304550</td>\n",
       "      <td>9.904800</td>\n",
       "      <td>2.585125</td>\n",
       "      <td>92.343800</td>\n",
       "      <td>25.067375</td>\n",
       "      <td>2.434050</td>\n",
       "      <td>2.415400</td>\n",
       "    </tr>\n",
       "    <tr>\n",
       "      <th>max</th>\n",
       "      <td>181.813900</td>\n",
       "      <td>20.330400</td>\n",
       "      <td>3.001300</td>\n",
       "      <td>304.333700</td>\n",
       "      <td>146.347400</td>\n",
       "      <td>198.537100</td>\n",
       "      <td>168.604400</td>\n",
       "    </tr>\n",
       "  </tbody>\n",
       "</table>\n",
       "</div>"
      ],
      "text/plain": [
       "                AC         CALI          DEN            GR          NEU  \\\n",
       "count  7007.000000  7007.000000  7084.000000  28117.000000  7096.000000   \n",
       "mean     79.498714     9.611068     2.449055     71.986798    20.117166   \n",
       "std      18.390705     1.019751     0.165122     32.922780    14.729530   \n",
       "min       1.025100     6.000000     1.943000      2.766100     2.178300   \n",
       "25%      66.154350     9.142900     2.319975     50.255200    10.631350   \n",
       "50%      74.661900     9.589400     2.505600     74.998500    15.718550   \n",
       "75%      93.304550     9.904800     2.585125     92.343800    25.067375   \n",
       "max     181.813900    20.330400     3.001300    304.333700   146.347400   \n",
       "\n",
       "               RDEP          RMED  \n",
       "count  12223.000000  12223.000000  \n",
       "mean       2.438382      2.386781  \n",
       "std        6.631202      5.735731  \n",
       "min        0.250300      0.179000  \n",
       "25%        0.988000      0.847850  \n",
       "50%        1.536100      1.490800  \n",
       "75%        2.434050      2.415400  \n",
       "max      198.537100    168.604400  "
      ]
     },
     "execution_count": 4,
     "metadata": {},
     "output_type": "execute_result"
    }
   ],
   "source": [
    "df = las.df()\n",
    "\n",
    "df.describe()"
   ]
  },
  {
   "cell_type": "code",
   "execution_count": 5,
   "id": "37310d1b",
   "metadata": {},
   "outputs": [
    {
     "data": {
      "image/png": "[encoded data removed]",
      "text/plain": [
       "<Figure size 432x288 with 1 Axes>"
      ]
     },
     "metadata": {
      "needs_background": "light"
     },
     "output_type": "display_data"
    }
   ],
   "source": [
    "df['GR'].plot(kind='hist')\n",
    "plt.show()"
   ]
  },
  {
   "cell_type": "code",
   "execution_count": 6,
   "id": "0be4647b",
   "metadata": {},
   "outputs": [
    {
     "data": {
      "image/png": "[encoded data removed]",
      "text/plain": [
       "<Figure size 432x288 with 1 Axes>"
      ]
     },
     "metadata": {
      "needs_background": "light"
     },
     "output_type": "display_data"
    }
   ],
   "source": [
    "plt.hist(df['GR'])\n",
    "plt.show()"
   ]
  },
  {
   "cell_type": "code",
   "execution_count": 7,
   "id": "31cadee1",
   "metadata": {},
   "outputs": [
    {
     "data": {
      "image/png": "[encoded data removed]",
      "text/plain": [
       "<Figure size 432x288 with 1 Axes>"
      ]
     },
     "metadata": {
      "needs_background": "light"
     },
     "output_type": "display_data"
    }
   ],
   "source": [
    "\n",
    "plt.hist(df['GR'], bins=30)\n",
    "plt.show()"
   ]
  },
  {
   "cell_type": "code",
   "execution_count": 8,
   "id": "bd2a7e5e",
   "metadata": {},
   "outputs": [
    {
     "data": {
      "image/png": "[encoded data removed]",
      "text/plain": [
       "<Figure size 432x288 with 1 Axes>"
      ]
     },
     "metadata": {
      "needs_background": "light"
     },
     "output_type": "display_data"
    }
   ],
   "source": [
    "\n",
    "plt.hist(df['GR'], bins=30, edgecolor='black')\n",
    "plt.show()"
   ]
  },
  {
   "cell_type": "code",
   "execution_count": 9,
   "id": "1d39bc76",
   "metadata": {},
   "outputs": [
    {
     "data": {
      "image/png": "[encoded data removed]",
      "text/plain": [
       "<Figure size 432x288 with 1 Axes>"
      ]
     },
     "metadata": {
      "needs_background": "light"
     },
     "output_type": "display_data"
    }
   ],
   "source": [
    "\n",
    "plt.hist(df['GR'], bins=30, color='red', alpha=0.5, edgecolor='black')\n",
    "plt.xlabel('Gamma Ray - API', fontsize=14)\n",
    "plt.ylabel('Frequency', fontsize=14)\n",
    "plt.xlim(0,200)\n",
    "\n",
    "plt.savefig('histogram.png', dpi=300)\n",
    "\n",
    "plt.show()"
   ]
  },
  {
   "cell_type": "code",
   "execution_count": 10,
   "id": "b1c5cc4f",
   "metadata": {},
   "outputs": [
    {
     "data": {
      "text/plain": [
       "(0.0, 200.0)"
      ]
     },
     "execution_count": 10,
     "metadata": {},
     "output_type": "execute_result"
    },
    {
     "data": {
      "image/png": "[encoded data removed]",
      "text/plain": [
       "<Figure size 432x288 with 1 Axes>"
      ]
     },
     "metadata": {
      "needs_background": "light"
     },
     "output_type": "display_data"
    }
   ],
   "source": [
    "\n",
    "df['GR'].plot(kind='hist', bins=30, color='red', alpha=0.5, density=True, edgecolor='black')\n",
    "df['GR'].plot(kind='kde', color='black')\n",
    "plt.xlabel('Gamma Ray - API', fontsize=14)\n",
    "plt.ylabel('Density', fontsize=14)\n",
    "plt.xlim(0,200)"
   ]
  },
  {
   "cell_type": "code",
   "execution_count": 11,
   "id": "874a377a",
   "metadata": {},
   "outputs": [
    {
     "name": "stdout",
     "output_type": "stream",
     "text": [
      "Mean: \t 71.98679770957146\n",
      "P05: \t 12.74656\n",
      "P95: \t 128.33267999999995\n"
     ]
    }
   ],
   "source": [
    "\n",
    "mean = df['GR'].mean()\n",
    "p5 = df['GR'].quantile(0.05)\n",
    "p95 = df['GR'].quantile(0.95)\n",
    "\n",
    "print(f'Mean: \\t {mean}')\n",
    "print(f'P05: \\t {p5}')\n",
    "print(f'P95: \\t {p95}')"
   ]
  },
  {
   "cell_type": "code",
   "execution_count": 12,
   "id": "90805435",
   "metadata": {},
   "outputs": [
    {
     "data": {
      "image/png": "[encoded data removed]",
      "text/plain": [
       "<Figure size 432x288 with 1 Axes>"
      ]
     },
     "metadata": {
      "needs_background": "light"
     },
     "output_type": "display_data"
    }
   ],
   "source": [
    "df['GR'].plot(kind='hist', bins=30, color='red', alpha=0.5, edgecolor='black')\n",
    "plt.xlabel('Gamma Ray', fontsize=14)\n",
    "plt.ylabel('Frequency', fontsize=14)\n",
    "plt.xlim(0,200)\n",
    "\n",
    "plt.axvline(mean, color='blue', label='mean')\n",
    "plt.axvline(p5, color='green', label='5th Percentile')\n",
    "plt.axvline(p95, color='purple', label='95th Percentile')\n",
    "\n",
    "plt.legend()\n",
    "plt.show()"
   ]
  },
  {
   "cell_type": "code",
   "execution_count": null,
   "id": "fee747bb",
   "metadata": {},
   "outputs": [],
   "source": []
  }
 ],
 "metadata": {
  "kernelspec": {
   "display_name": "Python 3",
   "language": "python",
   "name": "python3"
  },
  "language_info": {
   "codemirror_mode": {
    "name": "ipython",
    "version": 3
   },
   "file_extension": ".py",
   "mimetype": "text/x-python",
   "name": "python",
   "nbconvert_exporter": "python",
   "pygments_lexer": "ipython3",
   "version": "3.8.8"
  }
 },
 "nbformat": 4,
 "nbformat_minor": 5
}
